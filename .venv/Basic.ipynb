{
 "cells": [
  {
   "cell_type": "code",
   "id": "initial_id",
   "metadata": {
    "collapsed": true,
    "ExecuteTime": {
     "end_time": "2024-12-16T14:32:52.124764Z",
     "start_time": "2024-12-16T14:19:31.005081Z"
    }
   },
   "source": [
    "import torch\n",
    "import torch.nn as nn\n",
    "import torch.nn.functional as F\n",
    "from torchvision import datasets, transforms\n",
    "from torch.utils.data import random_split\n",
    "from sklearn.metrics import precision_score, recall_score, f1_score\n",
    "from sklearn.metrics import confusion_matrix, ConfusionMatrixDisplay\n",
    "from tqdm import tqdm\n",
    "import time\n",
    "import random\n",
    "import os\n",
    "import matplotlib.pyplot as plt\n",
    "import numpy as np\n",
    "import pprint\n",
    "\n",
    "h = {\n",
    "    \"num_epochs\": 3,\n",
    "    \"batch_size\": 64,\n",
    "    \"image_size\": 56,\n",
    "    \"fc1_size\": 512,\n",
    "    \"lr\": 0.001\n",
    "}\n",
    "\n",
    "def extract_patient_ids(filename):\n",
    "    patient_id = filename.split('_')[0].replace(\"person\", \"\")\n",
    "    return patient_id\n",
    "\n",
    "def split_file_names(input_folder, val_split_perc):\n",
    "    # Pneumonia files contain patient id, so we group split them by patient to avoid data leakage\n",
    "    pneumonia_patient_ids = set([extract_patient_ids(fn) for fn in os.listdir(os.path.join(input_folder, 'PNEUMONIA'))])\n",
    "    pneumonia_val_patient_ids = random.sample(list(pneumonia_patient_ids), int(val_split_perc * len(pneumonia_patient_ids)))\n",
    "\n",
    "    pneumonia_val_filenames = []\n",
    "    pneumonia_train_filenames = []\n",
    "\n",
    "    for filename in os.listdir(os.path.join(input_folder, 'PNEUMONIA')):\n",
    "        patient_id = extract_patient_ids(filename)\n",
    "        if patient_id in pneumonia_val_patient_ids:\n",
    "            pneumonia_val_filenames.append(os.path.join(input_folder, 'PNEUMONIA', filename))\n",
    "        else:\n",
    "            pneumonia_train_filenames.append(os.path.join(input_folder, 'PNEUMONIA', filename))\n",
    "\n",
    "    # Normal (by file, no patient information in file names)\n",
    "    normal_filenames  = [os.path.join(input_folder, 'NORMAL', fn) for fn in os.listdir(os.path.join(input_folder, 'NORMAL'))]\n",
    "    normal_val_filenames = random.sample(normal_filenames, int(val_split_perc * len(normal_filenames)))\n",
    "    normal_train_filenames = list(set(normal_filenames)-set(normal_val_filenames))\n",
    "\n",
    "    train_filenames = pneumonia_train_filenames + normal_train_filenames\n",
    "    val_filenames = pneumonia_val_filenames + normal_val_filenames\n",
    "\n",
    "    return train_filenames, val_filenames\n",
    "\n",
    "def prepare_data(h):\n",
    "    data_transforms = transforms.Compose([\n",
    "        transforms.Resize(size=(h[\"image_size\"], h[\"image_size\"])),\n",
    "        transforms.ToTensor(),\n",
    "    ])\n",
    "\n",
    "    # Define the validation split percentage\n",
    "    val_split = 0.2\n",
    "    train_filenames, val_filenames = split_file_names(\"C:\\\\Users\\\\Омар\\\\PycharmProjects\\\\FinalMLProject\\\\chest_xray\\\\chest_xray\\\\train\\\\\", val_split)\n",
    "\n",
    "    # Load the datasets\n",
    "    train_dataset = datasets.ImageFolder(\"C:\\\\Users\\\\Омар\\\\PycharmProjects\\\\FinalMLProject\\\\chest_xray\\\\chest_xray\\\\train\\\\\", \n",
    "                                         transform=data_transforms, \n",
    "                                         is_valid_file=lambda x: x in train_filenames)\n",
    "    val_dataset = datasets.ImageFolder(\"C:\\\\Users\\\\Омар\\\\PycharmProjects\\\\FinalMLProject\\\\chest_xray\\\\chest_xray\\\\train\\\\\", \n",
    "                                       transform=data_transforms, \n",
    "                                       is_valid_file=lambda x: x in val_filenames)    \n",
    "    test_dataset = datasets.ImageFolder(\"C:\\\\Users\\\\Омар\\\\PycharmProjects\\\\FinalMLProject\\\\chest_xray\\\\chest_xray\\\\test\\\\\", \n",
    "                                        transform=data_transforms)\n",
    "\n",
    "    # Create the data loaders for train, validation, and test sets\n",
    "    train_loader = torch.utils.data.DataLoader(train_dataset, batch_size=h[\"batch_size\"], shuffle=True, num_workers=4)    \n",
    "    val_loader = torch.utils.data.DataLoader(val_dataset, batch_size=h[\"batch_size\"], shuffle=True, num_workers=4)\n",
    "    test_loader = torch.utils.data.DataLoader(test_dataset, batch_size=h[\"batch_size\"], shuffle=True, num_workers=4)\n",
    "\n",
    "    return train_loader, val_loader, test_loader\n",
    "\n",
    "def create_model(h, device):\n",
    "    model = nn.Sequential(\n",
    "        nn.Flatten(),\n",
    "        nn.Linear(3 * h[\"image_size\"] * h[\"image_size\"], h[\"fc1_size\"]),\n",
    "        nn.ReLU(),\n",
    "        nn.Linear(h[\"fc1_size\"], 2)\n",
    "    )\n",
    "    model = model.to(device)\n",
    "    return model\n",
    "\n",
    "def train_model(h, model, train_loader, val_loader, optimizer, criterion, device):\n",
    "    train_loss_history = []\n",
    "    val_loss_history = []\n",
    "\n",
    "    start_time = time.time()\n",
    "    num_epochs = h[\"num_epochs\"]\n",
    "\n",
    "    for epoch in range(num_epochs):\n",
    "        model.train()\n",
    "        running_loss = 0.0\n",
    "\n",
    "        progress_bar = tqdm(train_loader, desc=f\"Training epoch {epoch + 1}/{num_epochs}\", leave=False, unit=\"mini-batch\")\n",
    "        for inputs, labels in progress_bar:\n",
    "            inputs, labels = inputs.to(device), labels.to(device)      \n",
    "            optimizer.zero_grad()\n",
    "            outputs = model(inputs)\n",
    "            loss = criterion(outputs, labels)\n",
    "            loss.backward()\n",
    "            optimizer.step()\n",
    "\n",
    "            running_loss += loss.item()\n",
    "            progress_bar.set_postfix(loss=loss.item())\n",
    "\n",
    "\n",
    "        val_loss, _, _, _ = evaluate_model(h, model, val_loader, criterion, device)\n",
    "        \n",
    "        # Store the loss history\n",
    "        train_loss = running_loss / len(train_loader)\n",
    "        train_loss_history.append(train_loss)\n",
    "        val_loss_history.append(val_loss)\n",
    "\n",
    "        # Calculate elapsed time and remaining time\n",
    "        elapsed_time = time.time() - start_time\n",
    "        avg_time_per_epoch = elapsed_time / (epoch + 1)\n",
    "        remaining_epochs = num_epochs - (epoch + 1)\n",
    "        remaining_time = avg_time_per_epoch * remaining_epochs\n",
    "\n",
    "        # Convert remaining time to minutes and seconds\n",
    "        remaining_time_min, remaining_time_sec = divmod(remaining_time, 60)\n",
    "\n",
    "        print(f\"Epoch [{epoch + 1}/{num_epochs}]: Train Loss: {running_loss / len(train_loader):.4f}, Val Loss: {val_loss:.4f}, Remaining Time: {remaining_time_min:.0f}m {remaining_time_sec:.0f}s\")\n",
    "\n",
    "    return train_loss_history, val_loss_history\n",
    "\n",
    "def evaluate_model(h, model, data_loader, criterion, device):\n",
    "    true_labels = []\n",
    "    predicted_labels = []\n",
    "    total_loss = 0.0\n",
    "    correct = 0\n",
    "    total = 0\n",
    "    model.eval()\n",
    "    with torch.no_grad():\n",
    "        for inputs, labels in data_loader:\n",
    "            inputs, labels = inputs.to(device), labels.to(device)          \n",
    "\n",
    "            outputs = model(inputs)\n",
    "\n",
    "            loss = criterion(outputs, labels)\n",
    "            total_loss += loss.item()\n",
    "\n",
    "            _, predicted = torch.max(outputs.data, 1)\n",
    "            correct += (predicted == labels).sum().item()\n",
    "            total += labels.size(0)\n",
    "\n",
    "            true_labels.extend(labels.cpu().numpy())\n",
    "            predicted_labels.extend(predicted.cpu().numpy())\n",
    "\n",
    "    epoch_loss = total_loss / len(data_loader)\n",
    "    epoch_accuracy = correct / total\n",
    "\n",
    "    return epoch_loss, epoch_accuracy, true_labels, predicted_labels\n",
    "\n",
    "def plot_metrics(h, train_loss_history, val_loss_history, test_loss, test_accuracy, true_labels, predicted_labels):\n",
    "    print(f\"Accuracy on the test set: {test_accuracy:.2%}\")\n",
    "\n",
    "    # Calculate precision, recall, and F1 score using the accumulated true labels and predictions\n",
    "    precision = precision_score(true_labels, predicted_labels)\n",
    "    recall = recall_score(true_labels, predicted_labels)\n",
    "    f1 = f1_score(true_labels, predicted_labels)\n",
    "    print(f\"Precision: {precision:.2f}, Recall: {recall:.2f}, F1 score: {f1:.2f}\")\n",
    "\n",
    "    # Calculate the confusion matrix using the accumulated true labels and predictions\n",
    "    cm = confusion_matrix(true_labels, predicted_labels)\n",
    "\n",
    "    # Visualize the confusion matrix\n",
    "    plt.figure()\n",
    "    disp = ConfusionMatrixDisplay(confusion_matrix=cm, display_labels=[\"Normal\", \"Pneumonia\"])\n",
    "    disp.plot()\n",
    "\n",
    "    # Plot the learning curves\n",
    "    plt.figure()\n",
    "    plt.plot(train_loss_history, label='Train Loss')\n",
    "    plt.plot(val_loss_history, label='Validation Loss')\n",
    "    plt.xlabel('Epoch')\n",
    "    plt.ylabel('Loss')\n",
    "    plt.title('Loss history')\n",
    "    plt.legend()\n",
    "    plt.show()  \n",
    "\n",
    "def check_solution(h, device, verbose):\n",
    "    train_loader, val_loader, test_loader = prepare_data(h)\n",
    "    model = create_model(h, device)\n",
    "    optimizer = torch.optim.Adam(model.parameters(), lr=h[\"lr\"])\n",
    "    criterion = nn.CrossEntropyLoss()\n",
    "    train_loss_history, val_loss_history = train_model(h, model, train_loader, val_loader, optimizer, criterion, device)\n",
    "    test_loss, test_accuracy, true_labels, predicted_labels = evaluate_model(h, model, test_loader, criterion, device)\n",
    "    if verbose:\n",
    "        plot_metrics(h, train_loss_history, val_loss_history, test_loss, test_accuracy, true_labels, predicted_labels)\n",
    "\n",
    "    f1 = f1_score(true_labels, predicted_labels)\n",
    "\n",
    "    return f1, test_accuracy\n",
    "\n",
    "\n",
    "# Check if GPU is available and set the device accordingly\n",
    "device = torch.device(\"cuda\" if torch.cuda.is_available() else \"cpu\")\n",
    "print(f\"Device: {device}\")\n",
    "\n",
    "# Get number of CPU cores\n",
    "num_cpu_cores = os.cpu_count()\n",
    "print(f\"Number of CPU cores: {num_cpu_cores}\")\n",
    "\n",
    "# Get GPU name\n",
    "if torch.cuda.is_available():\n",
    "    gpu_name = torch.cuda.get_device_name(0)\n",
    "    print(f\"GPU name: {gpu_name}\")\n",
    "else:\n",
    "    print(\"No GPU available\")\n",
    "\n",
    "# Print hyperparameters for records\n",
    "print(\"Hyperparameters:\")\n",
    "pprint.pprint(h)\n",
    "\n",
    "f1_array = np.array([])\n",
    "accuracy_array = np.array([])\n",
    "start_time = time.time()\n",
    "\n",
    "repeats = 5\n",
    "for i in range(repeats):\n",
    "    print(f\"Running solution {i+1}/{repeats}\")\n",
    "    f1, accuracy = check_solution(h, device, verbose=(i==0))\n",
    "    print(f\"F1 = {f1:.2f}, accuracy = {accuracy:.2f} \")\n",
    "    f1_array = np.append(f1_array, f1)\n",
    "    accuracy_array = np.append(accuracy_array, accuracy) \n",
    "\n",
    "# Calculate elapsed time and remaining time\n",
    "repeat_time = (time.time() - start_time) / repeats\n",
    "repeat_time_min, repeat_time_sec = divmod(repeat_time, 60)\n",
    "\n",
    "# Printing final results\n",
    "print(\"Results\")\n",
    "print(f\"F1 List: {f1_array}\")\n",
    "print(f\"Accuracy List: {accuracy_array}\")\n",
    "print(f\"F1: {np.mean(f1_array):.1%} (+-{np.std(f1_array):.1%})\")\n",
    "print(f\"Accuracy: {np.mean(accuracy_array):.1%} (+-{np.std(accuracy_array):.1%})\")\n",
    "print(f\"Time of one solution: {repeat_time_min:.0f}m {repeat_time_sec:.0f}s\")\n",
    "\n",
    "print(f\" | {np.mean(f1_array):.1%} (+-{np.std(f1_array):.1%}) | {np.mean(accuracy_array):.1%} (+-{np.std(accuracy_array):.1%}) | {repeat_time_min:.0f}m {repeat_time_sec:.0f}s\")"
   ],
   "outputs": [
    {
     "name": "stdout",
     "output_type": "stream",
     "text": [
      "Device: cpu\n",
      "Number of CPU cores: 8\n",
      "No GPU available\n",
      "Hyperparameters:\n",
      "{'batch_size': 64,\n",
      " 'fc1_size': 512,\n",
      " 'image_size': 56,\n",
      " 'lr': 0.001,\n",
      " 'num_epochs': 3}\n",
      "Running solution 1/5\n"
     ]
    },
    {
     "name": "stderr",
     "output_type": "stream",
     "text": [
      "                                                                                        \r"
     ]
    },
    {
     "name": "stdout",
     "output_type": "stream",
     "text": [
      "Epoch [1/3]: Train Loss: 0.6044, Val Loss: 0.2353, Remaining Time: 1m 32s\n"
     ]
    },
    {
     "name": "stderr",
     "output_type": "stream",
     "text": [
      "                                                                                        \r"
     ]
    },
    {
     "name": "stdout",
     "output_type": "stream",
     "text": [
      "Epoch [2/3]: Train Loss: 0.1879, Val Loss: 0.1590, Remaining Time: 0m 47s\n"
     ]
    },
    {
     "name": "stderr",
     "output_type": "stream",
     "text": [
      "                                                                                        \r"
     ]
    },
    {
     "name": "stdout",
     "output_type": "stream",
     "text": [
      "Epoch [3/3]: Train Loss: 0.1573, Val Loss: 0.1445, Remaining Time: 0m 0s\n",
      "Accuracy on the test set: 80.45%\n",
      "Precision: 0.77, Recall: 0.98, F1 score: 0.86\n"
     ]
    },
    {
     "data": {
      "text/plain": [
       "<Figure size 640x480 with 0 Axes>"
      ]
     },
     "metadata": {},
     "output_type": "display_data"
    },
    {
     "data": {
      "text/plain": [
       "<Figure size 640x480 with 2 Axes>"
      ],
      "image/png": "[encoded data removed]"
     },
     "metadata": {},
     "output_type": "display_data"
    },
    {
     "data": {
      "text/plain": [
       "<Figure size 640x480 with 1 Axes>"
      ],
      "image/png": "[encoded data removed]"
     },
     "metadata": {},
     "output_type": "display_data"
    },
    {
     "name": "stdout",
     "output_type": "stream",
     "text": [
      "F1 = 0.86, accuracy = 0.80 \n",
      "Running solution 2/5\n"
     ]
    },
    {
     "name": "stderr",
     "output_type": "stream",
     "text": [
      "                                                                                       \r"
     ]
    },
    {
     "name": "stdout",
     "output_type": "stream",
     "text": [
      "Epoch [1/3]: Train Loss: 0.6420, Val Loss: 0.2312, Remaining Time: 1m 33s\n"
     ]
    },
    {
     "name": "stderr",
     "output_type": "stream",
     "text": [
      "                                                                                        \r"
     ]
    },
    {
     "name": "stdout",
     "output_type": "stream",
     "text": [
      "Epoch [2/3]: Train Loss: 0.2032, Val Loss: 0.1476, Remaining Time: 0m 45s\n"
     ]
    },
    {
     "name": "stderr",
     "output_type": "stream",
     "text": [
      "                                                                                        \r"
     ]
    },
    {
     "name": "stdout",
     "output_type": "stream",
     "text": [
      "Epoch [3/3]: Train Loss: 0.1788, Val Loss: 0.1321, Remaining Time: 0m 0s\n",
      "F1 = 0.83, accuracy = 0.74 \n",
      "Running solution 3/5\n"
     ]
    },
    {
     "name": "stderr",
     "output_type": "stream",
     "text": [
      "                                                                                       \r"
     ]
    },
    {
     "name": "stdout",
     "output_type": "stream",
     "text": [
      "Epoch [1/3]: Train Loss: 0.8151, Val Loss: 0.3162, Remaining Time: 1m 28s\n"
     ]
    },
    {
     "name": "stderr",
     "output_type": "stream",
     "text": [
      "                                                                                       \r"
     ]
    },
    {
     "name": "stdout",
     "output_type": "stream",
     "text": [
      "Epoch [2/3]: Train Loss: 0.2486, Val Loss: 0.1908, Remaining Time: 0m 44s\n"
     ]
    },
    {
     "name": "stderr",
     "output_type": "stream",
     "text": [
      "                                                                                        \r"
     ]
    },
    {
     "name": "stdout",
     "output_type": "stream",
     "text": [
      "Epoch [3/3]: Train Loss: 0.1737, Val Loss: 0.1499, Remaining Time: 0m 0s\n",
      "F1 = 0.84, accuracy = 0.77 \n",
      "Running solution 4/5\n"
     ]
    },
    {
     "name": "stderr",
     "output_type": "stream",
     "text": [
      "                                                                                       \r"
     ]
    },
    {
     "name": "stdout",
     "output_type": "stream",
     "text": [
      "Epoch [1/3]: Train Loss: 0.8793, Val Loss: 0.3901, Remaining Time: 1m 47s\n"
     ]
    },
    {
     "name": "stderr",
     "output_type": "stream",
     "text": [
      "                                                                                        \r"
     ]
    },
    {
     "name": "stdout",
     "output_type": "stream",
     "text": [
      "Epoch [2/3]: Train Loss: 0.2999, Val Loss: 0.2526, Remaining Time: 0m 51s\n"
     ]
    },
    {
     "name": "stderr",
     "output_type": "stream",
     "text": [
      "                                                                                         \r"
     ]
    },
    {
     "name": "stdout",
     "output_type": "stream",
     "text": [
      "Epoch [3/3]: Train Loss: 0.2164, Val Loss: 0.3866, Remaining Time: 0m 0s\n",
      "F1 = 0.78, accuracy = 0.65 \n",
      "Running solution 5/5\n"
     ]
    },
    {
     "name": "stderr",
     "output_type": "stream",
     "text": [
      "                                                                                       \r"
     ]
    },
    {
     "name": "stdout",
     "output_type": "stream",
     "text": [
      "Epoch [1/3]: Train Loss: 0.7323, Val Loss: 0.2760, Remaining Time: 2m 6s\n"
     ]
    },
    {
     "name": "stderr",
     "output_type": "stream",
     "text": [
      "                                                                                       \r"
     ]
    },
    {
     "name": "stdout",
     "output_type": "stream",
     "text": [
      "Epoch [2/3]: Train Loss: 0.2410, Val Loss: 0.1648, Remaining Time: 0m 56s\n"
     ]
    },
    {
     "name": "stderr",
     "output_type": "stream",
     "text": [
      "                                                                                        \r"
     ]
    },
    {
     "name": "stdout",
     "output_type": "stream",
     "text": [
      "Epoch [3/3]: Train Loss: 0.1830, Val Loss: 0.1502, Remaining Time: 0m 0s\n",
      "F1 = 0.86, accuracy = 0.80 \n",
      "Results\n",
      "F1 List: [0.86199095 0.82566845 0.83991228 0.78269618 0.86009174]\n",
      "Accuracy List: [0.80448718 0.73878205 0.76602564 0.65384615 0.80448718]\n",
      "F1: 83.4% (+-2.9%)\n",
      "Accuracy: 75.4% (+-5.6%)\n",
      "Time of one solution: 2m 39s\n",
      " | 83.4% (+-2.9%) | 75.4% (+-5.6%) | 2m 39s\n"
     ]
    }
   ],
   "execution_count": 1
  }
 ],
 "metadata": {
  "kernelspec": {
   "display_name": "Python 3",
   "language": "python",
   "name": "python3"
  },
  "language_info": {
   "codemirror_mode": {
    "name": "ipython",
    "version": 2
   },
   "file_extension": ".py",
   "mimetype": "text/x-python",
   "name": "python",
   "nbconvert_exporter": "python",
   "pygments_lexer": "ipython2",
   "version": "2.7.6"
  }
 },
 "nbformat": 4,
 "nbformat_minor": 5
}
