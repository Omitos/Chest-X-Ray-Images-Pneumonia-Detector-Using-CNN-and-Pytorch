{
 "cells": [
  {
   "cell_type": "code",
   "execution_count": null,
   "id": "initial_id",
   "metadata": {
    "collapsed": true
   },
   "outputs": [],
   "source": [
    "from google.colab import drive\n",
    "drive.mount('/content/drive')"
   ]
  },
  {
   "metadata": {
    "jupyter": {
     "is_executing": true
    }
   },
   "cell_type": "code",
   "source": [
    "import torch\n",
    "import torch.nn as nn\n",
    "import torch.nn.functional as F\n",
    "from torchvision import datasets, transforms\n",
    "from torchvision.models import resnet34\n",
    "from torch.utils.data import random_split\n",
    "from torch.utils.data import WeightedRandomSampler\n",
    "from sklearn.metrics import precision_score, recall_score, f1_score\n",
    "from sklearn.metrics import confusion_matrix, ConfusionMatrixDisplay\n",
    "from tqdm import tqdm\n",
    "import time\n",
    "import random\n",
    "import os\n",
    "import matplotlib.pyplot as plt\n",
    "import numpy as np\n",
    "import pprint"
   ],
   "id": "60adbebc2cca06a5",
   "outputs": [],
   "execution_count": null
  },
  {
   "metadata": {},
   "cell_type": "code",
   "outputs": [],
   "execution_count": null,
   "source": "",
   "id": "1a6b2b51806bbe72"
  },
  {
   "metadata": {
    "ExecuteTime": {
     "end_time": "2024-12-19T13:36:36.423302Z",
     "start_time": "2024-12-19T13:36:36.413970Z"
    }
   },
   "cell_type": "code",
   "source": [
    "h = {\n",
    "    \"num_epochs\": 30,\n",
    "    \"batch_size\": 256,\n",
    "    \"image_size\": 224,\n",
    "    \"fc1_size\": 512,\n",
    "    \"lr\": 0.001,\n",
    "    \"model\": \"resnet34\",\n",
    "    \"scheduler\": \"CosineAnnealingLR10\",\n",
    "    \"balance\": True,\n",
    "    \"early_stopping_patience\": 10\n",
    "}"
   ],
   "id": "310fc4b72c6cc95",
   "outputs": [],
   "execution_count": 4
  },
  {
   "metadata": {
    "jupyter": {
     "is_executing": true
    },
    "ExecuteTime": {
     "start_time": "2024-12-19T13:37:13.463357Z"
    }
   },
   "cell_type": "code",
   "source": [
    "def extract_patient_ids(filename):\n",
    "    patient_id = filename.split('_')[0].replace(\"person\", \"\")\n",
    "    return patient_id\n",
    "\n",
    "def split_file_names(input_folder, val_split_perc):\n",
    "    pneumonia_patient_ids = set([extract_patient_ids(fn) for fn in os.listdir(os.path.join(input_folder, 'PNEUMONIA'))])\n",
    "    pneumonia_val_patient_ids = random.sample(list(pneumonia_patient_ids), int(val_split_perc * len(pneumonia_patient_ids)))\n",
    "\n",
    "    pneumonia_val_filenames = []\n",
    "    pneumonia_train_filenames = []\n",
    "\n",
    "    for filename in os.listdir(os.path.join(input_folder, 'PNEUMONIA')):\n",
    "        patient_id = extract_patient_ids(filename)\n",
    "        if patient_id in pneumonia_val_patient_ids:\n",
    "            pneumonia_val_filenames.append(os.path.join(input_folder, 'PNEUMONIA', filename))\n",
    "        else:\n",
    "            pneumonia_train_filenames.append(os.path.join(input_folder, 'PNEUMONIA', filename))\n",
    "\n",
    "    normal_filenames  = [os.path.join(input_folder, 'NORMAL', fn) for fn in os.listdir(os.path.join(input_folder, 'NORMAL'))]\n",
    "    normal_val_filenames = random.sample(normal_filenames, int(val_split_perc * len(normal_filenames)))\n",
    "    normal_train_filenames = list(set(normal_filenames)-set(normal_val_filenames))\n",
    "\n",
    "    train_filenames = pneumonia_train_filenames + normal_train_filenames\n",
    "    val_filenames = pneumonia_val_filenames + normal_val_filenames\n",
    "\n",
    "    return train_filenames, val_filenames\n",
    "\n",
    "def create_weighted_sampler(h, dataset):\n",
    "    targets = [label for _, label in dataset]\n",
    "    class_counts = np.bincount(targets)\n",
    "    class_weights = 1.0 / class_counts\n",
    "    weights = [class_weights[label] for label in targets]\n",
    "    sampler = WeightedRandomSampler(weights, len(weights))\n",
    "    return sampler\n",
    "\n",
    "def prepare_data(h):\n",
    "    data_transforms = transforms.Compose([\n",
    "        transforms.Resize(size=(h[\"image_size\"], h[\"image_size\"])),\n",
    "        transforms.ToTensor(),\n",
    "        transforms.Normalize(mean=[0.485, 0.456, 0.406],\n",
    "                            std=[0.229, 0.224, 0.225])\n",
    "    ])\n",
    "\n",
    "    data_transforms_train = transforms.Compose([\n",
    "        transforms.RandomRotation(20),  # Randomly rotate the image within a range of (-20, 20) degrees\n",
    "        transforms.RandomHorizontalFlip(p=0.5),  # Randomly flip the image horizontally with 50% probability\n",
    "        transforms.ColorJitter(brightness=0.1, contrast=0.1, saturation=0.1, hue=0.1),  # Randomly change the brightness, contrast, saturation, and hue\n",
    "        transforms.RandomApply([transforms.RandomAffine(0, translate=(0.1, 0.1))], p=0.5),  # Randomly apply affine transformations with translation\n",
    "        transforms.RandomApply([transforms.RandomPerspective(distortion_scale=0.2)], p=0.5),  # Randomly apply perspective transformations\n",
    "        transforms.Resize(size=(h[\"image_size\"], h[\"image_size\"])),\n",
    "        transforms.ToTensor(),\n",
    "        transforms.Normalize(mean=[0.485, 0.456, 0.406],\n",
    "                            std=[0.229, 0.224, 0.225])\n",
    "    ])\n",
    "    # C:\\Users\\Омар\\PycharmProjects\\FinalMLProject\\chest_xray\\train\n",
    "    val_split = 0.2\n",
    "    train_filenames, val_filenames = split_file_names(\"C:\\\\Users\\\\Омар\\\\PycharmProjects\\\\FinalMLProject\\\\chest_xray\\\\train\\\\\", val_split)\n",
    "\n",
    "    train_dataset = datasets.ImageFolder(\"C:\\\\Users\\\\Омар\\\\PycharmProjects\\\\FinalMLProject\\\\chest_xray\\\\train\\\\\", transform=data_transforms_train, is_valid_file=lambda x: x in train_filenames)\n",
    "    val_dataset = datasets.ImageFolder(\"C:\\\\Users\\\\Омар\\\\PycharmProjects\\\\FinalMLProject\\\\chest_xray\\\\train\\\\\", transform=data_transforms, is_valid_file=lambda x: x in val_filenames)    \n",
    "    test_dataset = datasets.ImageFolder(\"C:\\\\Users\\\\Омар\\\\PycharmProjects\\\\FinalMLProject\\\\chest_xray\\\\test\\\\\", transform=data_transforms)\n",
    "\n",
    "    if (h[\"balance\"]):\n",
    "        sampler = create_weighted_sampler(h, train_dataset)\n",
    "        train_loader = torch.utils.data.DataLoader(train_dataset, batch_size=h[\"batch_size\"], sampler=sampler, num_workers=4)    \n",
    "    else:\n",
    "        train_loader = torch.utils.data.DataLoader(train_dataset, batch_size=h[\"batch_size\"], shuffle=True, num_workers=4)    \n",
    "    val_loader = torch.utils.data.DataLoader(val_dataset, batch_size=h[\"batch_size\"], shuffle=True, num_workers=4)\n",
    "    test_loader = torch.utils.data.DataLoader(test_dataset, batch_size=h[\"batch_size\"], shuffle=True, num_workers=4)\n",
    "\n",
    "    return train_loader, val_loader, test_loader\n",
    "\n",
    "def create_model(h, device):\n",
    "    if (h[\"model\"]==\"fc\"):\n",
    "        model = nn.Sequential(\n",
    "            nn.Flatten(),\n",
    "            nn.Linear(3 * h[\"image_size\"] * h[\"image_size\"], h[\"fc1_size\"]),\n",
    "            nn.ReLU(),\n",
    "            nn.Linear(h[\"fc1_size\"], 2)\n",
    "        )\n",
    "        model = model.to(device)\n",
    "        return model\n",
    "    if (h[\"model\"]==\"cnn\"):\n",
    "        model = nn.Sequential(\n",
    "            nn.Conv2d(3, 16, 3, padding=1),\n",
    "            nn.ReLU(),\n",
    "            nn.MaxPool2d(2, 2),\n",
    "            nn.Conv2d(16, 32, 3, padding=1),\n",
    "            nn.ReLU(),\n",
    "            nn.MaxPool2d(2, 2),\n",
    "            nn.Conv2d(32, 64, 3, padding=1),\n",
    "            nn.ReLU(),\n",
    "            nn.MaxPool2d(2, 2),\n",
    "            nn.Flatten(),\n",
    "            nn.Dropout(0.25),\n",
    "            nn.Linear(64 * (h[\"image_size\"] // 8) * (h[\"image_size\"] // 8), 512),\n",
    "            nn.ReLU(),\n",
    "            nn.Dropout(0.25),\n",
    "            nn.Linear(512, 2)\n",
    "        )\n",
    "        model = model.to(device)\n",
    "        return model\n",
    "    if (h[\"model\"]==\"resnet34\"):\n",
    "        model = resnet34(pretrained=True)\n",
    "        num_features = model.fc.in_features\n",
    "        model.fc = nn.Linear(num_features, 2)\n",
    "        model = model.to(device)\n",
    "        return model\n",
    "\n",
    "def train_model(h, model, train_loader, val_loader, optimizer, criterion, scheduler, device):\n",
    "    train_loss_history = []\n",
    "    val_loss_history = []\n",
    "\n",
    "    best_val_loss = float('inf')\n",
    "    patience_counter = 0\n",
    "    patience = h[\"early_stopping_patience\"]  # The patience threshold for early stopping\n",
    "\n",
    "    start_time = time.time()\n",
    "    num_epochs = h[\"num_epochs\"]\n",
    "\n",
    "    for epoch in range(num_epochs):\n",
    "        model.train()\n",
    "        running_loss = 0.0\n",
    "\n",
    "        progress_bar = tqdm(train_loader, desc=f\"Training epoch {epoch + 1}/{num_epochs}\", leave=False, unit=\"mini-batch\")\n",
    "        for inputs, labels in progress_bar:\n",
    "            inputs, labels = inputs.to(device), labels.to(device)      \n",
    "            optimizer.zero_grad()\n",
    "            outputs = model(inputs)\n",
    "            loss = criterion(outputs, labels)\n",
    "            loss.backward()\n",
    "            optimizer.step()\n",
    "\n",
    "            running_loss += loss.item()\n",
    "            progress_bar.set_postfix(loss=loss.item())\n",
    "\n",
    "\n",
    "        val_loss, _, _, _ = evaluate_model(h, model, val_loader, criterion, device)\n",
    "        scheduler.step(val_loss)\n",
    "        \n",
    "        train_loss = running_loss / len(train_loader)\n",
    "        train_loss_history.append(train_loss)\n",
    "        val_loss_history.append(val_loss)\n",
    "\n",
    "        if val_loss < best_val_loss:\n",
    "            best_val_loss = val_loss\n",
    "            torch.save(model.state_dict(), 'best_model_weights.pth')\n",
    "            patience_counter = 0\n",
    "        else:\n",
    "            patience_counter += 1\n",
    "\n",
    "        if patience_counter >= patience:\n",
    "            print(f\"Early stopping at epoch {epoch + 1}.\")\n",
    "            break        \n",
    "\n",
    "        elapsed_time = time.time() - start_time\n",
    "        avg_time_per_epoch = elapsed_time / (epoch + 1)\n",
    "        remaining_epochs = num_epochs - (epoch + 1)\n",
    "        remaining_time = avg_time_per_epoch * remaining_epochs\n",
    "\n",
    "        remaining_time_min, remaining_time_sec = divmod(remaining_time, 60)\n",
    "\n",
    "        print(f\"Epoch [{epoch + 1}/{num_epochs}]: Train Loss: {running_loss / len(train_loader):.4f}, Val Loss: {val_loss:.4f}, Remaining Time: {remaining_time_min:.0f}m {remaining_time_sec:.0f}s\")\n",
    "\n",
    "    if patience!=float(\"inf\"):\n",
    "        model.load_state_dict(torch.load('best_model_weights.pth'))\n",
    "\n",
    "    return train_loss_history, val_loss_history\n",
    "\n",
    "def evaluate_model(h, model, data_loader, criterion, device):\n",
    "    true_labels = []\n",
    "    predicted_labels = []\n",
    "    total_loss = 0.0\n",
    "    correct = 0\n",
    "    total = 0\n",
    "    model.eval()\n",
    "    with torch.no_grad():\n",
    "        for inputs, labels in data_loader:\n",
    "            inputs, labels = inputs.to(device), labels.to(device)          \n",
    "\n",
    "            outputs = model(inputs)\n",
    "\n",
    "            loss = criterion(outputs, labels)\n",
    "            total_loss += loss.item()\n",
    "\n",
    "            _, predicted = torch.max(outputs.data, 1)\n",
    "            correct += (predicted == labels).sum().item()\n",
    "            total += labels.size(0)\n",
    "\n",
    "            true_labels.extend(labels.cpu().numpy())\n",
    "            predicted_labels.extend(predicted.cpu().numpy())\n",
    "\n",
    "    epoch_loss = total_loss / len(data_loader)\n",
    "    epoch_accuracy = correct / total\n",
    "\n",
    "    return epoch_loss, epoch_accuracy, true_labels, predicted_labels\n",
    "\n",
    "def plot_metrics(h, train_loss_history, val_loss_history, test_loss, test_accuracy, true_labels, predicted_labels):\n",
    "    print(f\"Accuracy on the test set: {test_accuracy:.2%}\")\n",
    "\n",
    "    precision = precision_score(true_labels, predicted_labels)\n",
    "    recall = recall_score(true_labels, predicted_labels)\n",
    "    f1 = f1_score(true_labels, predicted_labels)\n",
    "    print(f\"Precision: {precision:.2f}, Recall: {recall:.2f}, F1 score: {f1:.2f}\")\n",
    "\n",
    "    cm = confusion_matrix(true_labels, predicted_labels)\n",
    "\n",
    "    plt.figure()\n",
    "    disp = ConfusionMatrixDisplay(confusion_matrix=cm, display_labels=[\"Normal\", \"Pneumonia\"])\n",
    "    disp.plot()\n",
    "\n",
    "    plt.figure()\n",
    "    plt.plot(train_loss_history, label='Train Loss')\n",
    "    plt.plot(val_loss_history, label='Validation Loss')\n",
    "    plt.xlabel('Epoch')\n",
    "    plt.ylabel('Loss')\n",
    "    plt.title('Loss history')\n",
    "    plt.legend()\n",
    "    plt.show()  \n",
    "\n",
    "def create_scheduler(h, optimizer, lr):\n",
    "    scheduler_name = h[\"scheduler\"]\n",
    "    if (scheduler_name==\"\"):\n",
    "        return None\n",
    "    if (scheduler_name==\"CosineAnnealingLR10\"):\n",
    "        return torch.optim.lr_scheduler.CosineAnnealingLR(optimizer, T_max=h[\"num_epochs\"], eta_min=lr*0.1)\n",
    "    if (scheduler_name==\"ReduceLROnPlateau5\"):\n",
    "        return torch.optim.lr_scheduler.ReduceLROnPlateau(optimizer, mode='min', factor=0.1, patience=5, verbose=True)\n",
    "    print (\"Error. Unknown scheduler name '{scheduler_name}'\")\n",
    "    return None\n",
    "\n",
    "def check_solution(h, device, verbose):\n",
    "    train_loader, val_loader, test_loader = prepare_data(h)\n",
    "    model = create_model(h, device)\n",
    "    optimizer = torch.optim.Adam(model.parameters(), lr=h[\"lr\"])\n",
    "    scheduler = create_scheduler(h, optimizer, h[\"lr\"])\n",
    "    criterion = nn.CrossEntropyLoss()\n",
    "    train_loss_history, val_loss_history = train_model(h, model, train_loader, val_loader, optimizer, criterion, scheduler, device)\n",
    "    test_loss, test_accuracy, true_labels, predicted_labels = evaluate_model(h, model, test_loader, criterion, device)\n",
    "    if verbose:\n",
    "        plot_metrics(h, train_loss_history, val_loss_history, test_loss, test_accuracy, true_labels, predicted_labels)\n",
    "\n",
    "    f1 = f1_score(true_labels, predicted_labels)\n",
    "\n",
    "    return f1, test_accuracy\n",
    "\n",
    "\n",
    "device = torch.device(\"cuda\" if torch.cuda.is_available() else \"cpu\")\n",
    "print(f\"Device: {device}\")\n",
    "\n",
    "num_cpu_cores = os.cpu_count()\n",
    "print(f\"Number of CPU cores: {num_cpu_cores}\")\n",
    "\n",
    "if torch.cuda.is_available():\n",
    "    gpu_name = torch.cuda.get_device_name(0)\n",
    "    print(f\"GPU name: {gpu_name}\")\n",
    "else:\n",
    "    print(\"No GPU available\")\n",
    "\n",
    "print(\"Hyperparameters:\")\n",
    "pprint.pprint(h)\n",
    "\n",
    "f1_array = np.array([])\n",
    "accuracy_array = np.array([])\n",
    "start_time = time.time()\n",
    "\n",
    "repeats = 5\n",
    "for i in range(repeats):\n",
    "    print(f\"Running solution {i+1}/{repeats}\")\n",
    "    f1, accuracy = check_solution(h, device, verbose=(i==0))\n",
    "    print(f\"F1 = {f1:.2f}, accuracy = {accuracy:.2f} \")\n",
    "    f1_array = np.append(f1_array, f1)\n",
    "    accuracy_array = np.append(accuracy_array, accuracy) \n",
    "\n",
    "repeat_time = (time.time() - start_time) / repeats\n",
    "repeat_time_min, repeat_time_sec = divmod(repeat_time, 60)\n",
    "\n",
    "print(\"Results\")\n",
    "print(f\"F1 List: {f1_array}\")\n",
    "print(f\"Accuracy List: {accuracy_array}\")\n",
    "print(f\"F1: {np.mean(f1_array):.1%} (+-{np.std(f1_array):.1%})\")\n",
    "print(f\"Accuracy: {np.mean(accuracy_array):.1%} (+-{np.std(accuracy_array):.1%})\")\n",
    "print(f\"Time of one solution: {repeat_time_min:.0f}m {repeat_time_sec:.0f}s\")\n",
    "\n",
    "print(f\" | {np.mean(f1_array):.1%} (+-{np.std(f1_array):.1%}) | {np.mean(accuracy_array):.1%} (+-{np.std(accuracy_array):.1%}) | {repeat_time_min:.0f}m {repeat_time_sec:.0f}s\")\n",
    "\n",
    "print(\"Hyperparameters:\")\n",
    "pprint.pprint(h)"
   ],
   "id": "4723b98acb51cb31",
   "outputs": [
    {
     "name": "stdout",
     "output_type": "stream",
     "text": [
      "Device: cpu\n",
      "Number of CPU cores: 8\n",
      "No GPU available\n",
      "Hyperparameters:\n",
      "{'balance': True,\n",
      " 'batch_size': 256,\n",
      " 'early_stopping_patience': 10,\n",
      " 'fc1_size': 512,\n",
      " 'image_size': 224,\n",
      " 'lr': 0.001,\n",
      " 'model': 'resnet34',\n",
      " 'num_epochs': 30,\n",
      " 'scheduler': 'CosineAnnealingLR10'}\n",
      "Running solution 1/5\n"
     ]
    },
    {
     "name": "stderr",
     "output_type": "stream",
     "text": [
      "C:\\Users\\Омар\\PycharmProjects\\FinalMLProject\\.venv\\Lib\\site-packages\\torchvision\\models\\_utils.py:208: UserWarning: The parameter 'pretrained' is deprecated since 0.13 and may be removed in the future, please use 'weights' instead.\n",
      "  warnings.warn(\n",
      "C:\\Users\\Омар\\PycharmProjects\\FinalMLProject\\.venv\\Lib\\site-packages\\torchvision\\models\\_utils.py:223: UserWarning: Arguments other than a weight enum or `None` for 'weights' are deprecated since 0.13 and may be removed in the future. The current behavior is equivalent to passing `weights=ResNet34_Weights.IMAGENET1K_V1`. You can also use `weights=ResNet34_Weights.DEFAULT` to get the most up-to-date weights.\n",
      "  warnings.warn(msg)\n",
      "Downloading: \"https://download.pytorch.org/models/resnet34-b627a593.pth\" to C:\\Users\\Омар/.cache\\torch\\hub\\checkpoints\\resnet34-b627a593.pth\n",
      "100%|██████████| 83.3M/83.3M [03:18<00:00, 440kB/s] \n",
      "C:\\Users\\Омар\\PycharmProjects\\FinalMLProject\\.venv\\Lib\\site-packages\\torch\\optim\\lr_scheduler.py:240: UserWarning: The epoch parameter in `scheduler.step()` was not necessary and is being deprecated where possible. Please use `scheduler.step()` to step the scheduler. During the deprecation, if epoch is different from None, the closed form is used instead of the new chainable form, where available. Please open an issue if you are unable to replicate your use case: https://github.com/pytorch/pytorch/issues/new/choose.\n",
      "  warnings.warn(EPOCH_DEPRECATION_WARNING, UserWarning)\n"
     ]
    },
    {
     "name": "stdout",
     "output_type": "stream",
     "text": [
      "Epoch [1/30]: Train Loss: 0.3245, Val Loss: 0.1700, Remaining Time: 923m 3s\n"
     ]
    },
    {
     "name": "stderr",
     "output_type": "stream",
     "text": [
      "                                                                                         \r"
     ]
    },
    {
     "name": "stdout",
     "output_type": "stream",
     "text": [
      "Epoch [2/30]: Train Loss: 0.0975, Val Loss: 0.3725, Remaining Time: 713m 1s\n"
     ]
    },
    {
     "name": "stderr",
     "output_type": "stream",
     "text": [
      "                                                                                         \r"
     ]
    },
    {
     "name": "stdout",
     "output_type": "stream",
     "text": [
      "Epoch [3/30]: Train Loss: 0.0683, Val Loss: 0.1171, Remaining Time: 627m 56s\n"
     ]
    },
    {
     "name": "stderr",
     "output_type": "stream",
     "text": [
      "                                                                                         \r"
     ]
    },
    {
     "name": "stdout",
     "output_type": "stream",
     "text": [
      "Epoch [4/30]: Train Loss: 0.0555, Val Loss: 0.1031, Remaining Time: 575m 46s\n"
     ]
    },
    {
     "name": "stderr",
     "output_type": "stream",
     "text": [
      "                                                                                         \r"
     ]
    },
    {
     "name": "stdout",
     "output_type": "stream",
     "text": [
      "Epoch [5/30]: Train Loss: 0.0601, Val Loss: 0.1299, Remaining Time: 535m 26s\n"
     ]
    },
    {
     "name": "stderr",
     "output_type": "stream",
     "text": [
      "                                                                                         \r"
     ]
    },
    {
     "name": "stdout",
     "output_type": "stream",
     "text": [
      "Epoch [6/30]: Train Loss: 0.0454, Val Loss: 0.0678, Remaining Time: 503m 40s\n"
     ]
    },
    {
     "name": "stderr",
     "output_type": "stream",
     "text": [
      "                                                                                         \r"
     ]
    },
    {
     "name": "stdout",
     "output_type": "stream",
     "text": [
      "Epoch [7/30]: Train Loss: 0.0620, Val Loss: 0.0692, Remaining Time: 472m 9s\n"
     ]
    },
    {
     "name": "stderr",
     "output_type": "stream",
     "text": [
      "                                                                                         \r"
     ]
    },
    {
     "name": "stdout",
     "output_type": "stream",
     "text": [
      "Epoch [8/30]: Train Loss: 0.0419, Val Loss: 0.0950, Remaining Time: 446m 21s\n"
     ]
    },
    {
     "name": "stderr",
     "output_type": "stream",
     "text": [
      "                                                                                         \r"
     ]
    },
    {
     "name": "stdout",
     "output_type": "stream",
     "text": [
      "Epoch [9/30]: Train Loss: 0.0444, Val Loss: 0.2252, Remaining Time: 423m 56s\n"
     ]
    },
    {
     "name": "stderr",
     "output_type": "stream",
     "text": [
      "                                                                                           \r"
     ]
    },
    {
     "name": "stdout",
     "output_type": "stream",
     "text": [
      "Epoch [10/30]: Train Loss: 0.0309, Val Loss: 0.5957, Remaining Time: 405m 16s\n"
     ]
    },
    {
     "name": "stderr",
     "output_type": "stream",
     "text": [
      "                                                                                           \r"
     ]
    },
    {
     "name": "stdout",
     "output_type": "stream",
     "text": [
      "Epoch [11/30]: Train Loss: 0.0366, Val Loss: 0.0713, Remaining Time: 384m 16s\n"
     ]
    },
    {
     "name": "stderr",
     "output_type": "stream",
     "text": [
      "                                                                                          \r"
     ]
    },
    {
     "name": "stdout",
     "output_type": "stream",
     "text": [
      "Epoch [12/30]: Train Loss: 0.0386, Val Loss: 0.0677, Remaining Time: 361m 54s\n"
     ]
    },
    {
     "name": "stderr",
     "output_type": "stream",
     "text": [
      "                                                                                          \r"
     ]
    },
    {
     "name": "stdout",
     "output_type": "stream",
     "text": [
      "Epoch [13/30]: Train Loss: 0.0312, Val Loss: 0.0738, Remaining Time: 339m 38s\n"
     ]
    },
    {
     "name": "stderr",
     "output_type": "stream",
     "text": [
      "                                                                                          \r"
     ]
    },
    {
     "name": "stdout",
     "output_type": "stream",
     "text": [
      "Epoch [14/30]: Train Loss: 0.0331, Val Loss: 0.0569, Remaining Time: 318m 21s\n"
     ]
    },
    {
     "name": "stderr",
     "output_type": "stream",
     "text": [
      "                                                                                          \r"
     ]
    },
    {
     "name": "stdout",
     "output_type": "stream",
     "text": [
      "Epoch [15/30]: Train Loss: 0.0340, Val Loss: 0.0554, Remaining Time: 297m 22s\n"
     ]
    },
    {
     "name": "stderr",
     "output_type": "stream",
     "text": [
      "                                                                                           \r"
     ]
    },
    {
     "name": "stdout",
     "output_type": "stream",
     "text": [
      "Epoch [16/30]: Train Loss: 0.0203, Val Loss: 0.0567, Remaining Time: 276m 15s\n"
     ]
    },
    {
     "name": "stderr",
     "output_type": "stream",
     "text": [
      "                                                                                           \r"
     ]
    },
    {
     "name": "stdout",
     "output_type": "stream",
     "text": [
      "Epoch [17/30]: Train Loss: 0.0355, Val Loss: 0.0922, Remaining Time: 255m 23s\n"
     ]
    },
    {
     "name": "stderr",
     "output_type": "stream",
     "text": [
      "                                                                                           \r"
     ]
    },
    {
     "name": "stdout",
     "output_type": "stream",
     "text": [
      "Epoch [18/30]: Train Loss: 0.0294, Val Loss: 0.0714, Remaining Time: 235m 9s\n"
     ]
    },
    {
     "name": "stderr",
     "output_type": "stream",
     "text": [
      "                                                                                           \r"
     ]
    },
    {
     "name": "stdout",
     "output_type": "stream",
     "text": [
      "Epoch [19/30]: Train Loss: 0.0210, Val Loss: 0.1174, Remaining Time: 214m 43s\n"
     ]
    },
    {
     "name": "stderr",
     "output_type": "stream",
     "text": [
      "                                                                                           \r"
     ]
    },
    {
     "name": "stdout",
     "output_type": "stream",
     "text": [
      "Epoch [20/30]: Train Loss: 0.0309, Val Loss: 0.2181, Remaining Time: 194m 40s\n"
     ]
    },
    {
     "name": "stderr",
     "output_type": "stream",
     "text": [
      "                                                                                          \r"
     ]
    },
    {
     "name": "stdout",
     "output_type": "stream",
     "text": [
      "Epoch [21/30]: Train Loss: 0.0387, Val Loss: 0.0900, Remaining Time: 174m 43s\n"
     ]
    },
    {
     "name": "stderr",
     "output_type": "stream",
     "text": [
      "                                                                                          \r"
     ]
    },
    {
     "name": "stdout",
     "output_type": "stream",
     "text": [
      "Epoch [22/30]: Train Loss: 0.0304, Val Loss: 0.0548, Remaining Time: 154m 55s\n"
     ]
    },
    {
     "name": "stderr",
     "output_type": "stream",
     "text": [
      "                                                                                           \r"
     ]
    },
    {
     "name": "stdout",
     "output_type": "stream",
     "text": [
      "Epoch [23/30]: Train Loss: 0.0243, Val Loss: 0.0977, Remaining Time: 135m 13s\n"
     ]
    },
    {
     "name": "stderr",
     "output_type": "stream",
     "text": [
      "                                                                                           \r"
     ]
    },
    {
     "name": "stdout",
     "output_type": "stream",
     "text": [
      "Epoch [24/30]: Train Loss: 0.0155, Val Loss: 0.0516, Remaining Time: 115m 33s\n"
     ]
    },
    {
     "name": "stderr",
     "output_type": "stream",
     "text": [
      "                                                                                           \r"
     ]
    },
    {
     "name": "stdout",
     "output_type": "stream",
     "text": [
      "Epoch [25/30]: Train Loss: 0.0138, Val Loss: 0.0598, Remaining Time: 96m 7s\n"
     ]
    },
    {
     "name": "stderr",
     "output_type": "stream",
     "text": [
      "                                                                                           \r"
     ]
    },
    {
     "name": "stdout",
     "output_type": "stream",
     "text": [
      "Epoch [26/30]: Train Loss: 0.0268, Val Loss: 0.0731, Remaining Time: 76m 52s\n"
     ]
    },
    {
     "name": "stderr",
     "output_type": "stream",
     "text": [
      "                                                                                           \r"
     ]
    },
    {
     "name": "stdout",
     "output_type": "stream",
     "text": [
      "Epoch [27/30]: Train Loss: 0.0288, Val Loss: 0.1349, Remaining Time: 57m 32s\n"
     ]
    },
    {
     "name": "stderr",
     "output_type": "stream",
     "text": [
      "                                                                                           \r"
     ]
    },
    {
     "name": "stdout",
     "output_type": "stream",
     "text": [
      "Epoch [28/30]: Train Loss: 0.0108, Val Loss: 0.0526, Remaining Time: 38m 19s\n"
     ]
    },
    {
     "name": "stderr",
     "output_type": "stream",
     "text": [
      "                                                                                           \r"
     ]
    },
    {
     "name": "stdout",
     "output_type": "stream",
     "text": [
      "Epoch [29/30]: Train Loss: 0.0140, Val Loss: 0.0767, Remaining Time: 19m 7s\n"
     ]
    },
    {
     "name": "stderr",
     "output_type": "stream",
     "text": [
      "                                                                                           \r"
     ]
    },
    {
     "name": "stdout",
     "output_type": "stream",
     "text": [
      "Epoch [30/30]: Train Loss: 0.0195, Val Loss: 0.0800, Remaining Time: 0m 0s\n"
     ]
    },
    {
     "name": "stderr",
     "output_type": "stream",
     "text": [
      "C:\\Users\\Омар\\AppData\\Local\\Temp\\ipykernel_13532\\512052923.py:166: FutureWarning: You are using `torch.load` with `weights_only=False` (the current default value), which uses the default pickle module implicitly. It is possible to construct malicious pickle data which will execute arbitrary code during unpickling (See https://github.com/pytorch/pytorch/blob/main/SECURITY.md#untrusted-models for more details). In a future release, the default value for `weights_only` will be flipped to `True`. This limits the functions that could be executed during unpickling. Arbitrary objects will no longer be allowed to be loaded via this mode unless they are explicitly allowlisted by the user via `torch.serialization.add_safe_globals`. We recommend you start setting `weights_only=True` for any use case where you don't have full control of the loaded file. Please open an issue on GitHub for any issues related to this experimental feature.\n",
      "  model.load_state_dict(torch.load('best_model_weights.pth'))\n"
     ]
    },
    {
     "name": "stdout",
     "output_type": "stream",
     "text": [
      "Accuracy on the test set: 87.50%\n",
      "Precision: 0.83, Recall: 1.00, F1 score: 0.91\n"
     ]
    },
    {
     "data": {
      "text/plain": [
       "<Figure size 640x480 with 0 Axes>"
      ]
     },
     "metadata": {},
     "output_type": "display_data"
    },
    {
     "data": {
      "text/plain": [
       "<Figure size 640x480 with 2 Axes>"
      ],
      "image/png": "[encoded data removed]"
     },
     "metadata": {},
     "output_type": "display_data"
    },
    {
     "data": {
      "text/plain": [
       "<Figure size 640x480 with 1 Axes>"
      ],
      "image/png": "[encoded data removed]"
     },
     "metadata": {},
     "output_type": "display_data"
    },
    {
     "name": "stdout",
     "output_type": "stream",
     "text": [
      "F1 = 0.91, accuracy = 0.88 \n",
      "Running solution 2/5\n"
     ]
    },
    {
     "name": "stderr",
     "output_type": "stream",
     "text": [
      "C:\\Users\\Омар\\PycharmProjects\\FinalMLProject\\.venv\\Lib\\site-packages\\torchvision\\models\\_utils.py:208: UserWarning: The parameter 'pretrained' is deprecated since 0.13 and may be removed in the future, please use 'weights' instead.\n",
      "  warnings.warn(\n",
      "C:\\Users\\Омар\\PycharmProjects\\FinalMLProject\\.venv\\Lib\\site-packages\\torchvision\\models\\_utils.py:223: UserWarning: Arguments other than a weight enum or `None` for 'weights' are deprecated since 0.13 and may be removed in the future. The current behavior is equivalent to passing `weights=ResNet34_Weights.IMAGENET1K_V1`. You can also use `weights=ResNet34_Weights.DEFAULT` to get the most up-to-date weights.\n",
      "  warnings.warn(msg)\n",
      "C:\\Users\\Омар\\PycharmProjects\\FinalMLProject\\.venv\\Lib\\site-packages\\torch\\optim\\lr_scheduler.py:240: UserWarning: The epoch parameter in `scheduler.step()` was not necessary and is being deprecated where possible. Please use `scheduler.step()` to step the scheduler. During the deprecation, if epoch is different from None, the closed form is used instead of the new chainable form, where available. Please open an issue if you are unable to replicate your use case: https://github.com/pytorch/pytorch/issues/new/choose.\n",
      "  warnings.warn(EPOCH_DEPRECATION_WARNING, UserWarning)\n"
     ]
    },
    {
     "name": "stdout",
     "output_type": "stream",
     "text": [
      "Epoch [1/30]: Train Loss: 0.3083, Val Loss: 0.6845, Remaining Time: 514m 6s\n"
     ]
    },
    {
     "name": "stderr",
     "output_type": "stream",
     "text": [
      "                                                                                         \r"
     ]
    },
    {
     "name": "stdout",
     "output_type": "stream",
     "text": [
      "Epoch [2/30]: Train Loss: 0.0802, Val Loss: 0.2872, Remaining Time: 496m 54s\n"
     ]
    },
    {
     "name": "stderr",
     "output_type": "stream",
     "text": [
      "                                                                                         \r"
     ]
    },
    {
     "name": "stdout",
     "output_type": "stream",
     "text": [
      "Epoch [3/30]: Train Loss: 0.0629, Val Loss: 0.0736, Remaining Time: 479m 55s\n"
     ]
    },
    {
     "name": "stderr",
     "output_type": "stream",
     "text": [
      "                                                                                         \r"
     ]
    },
    {
     "name": "stdout",
     "output_type": "stream",
     "text": [
      "Epoch [4/30]: Train Loss: 0.0589, Val Loss: 0.0396, Remaining Time: 464m 1s\n"
     ]
    },
    {
     "name": "stderr",
     "output_type": "stream",
     "text": [
      "                                                                                         \r"
     ]
    },
    {
     "name": "stdout",
     "output_type": "stream",
     "text": [
      "Epoch [5/30]: Train Loss: 0.0530, Val Loss: 0.0874, Remaining Time: 448m 3s\n"
     ]
    },
    {
     "name": "stderr",
     "output_type": "stream",
     "text": [
      "                                                                                         \r"
     ]
    },
    {
     "name": "stdout",
     "output_type": "stream",
     "text": [
      "Epoch [6/30]: Train Loss: 0.0472, Val Loss: 0.0360, Remaining Time: 430m 37s\n"
     ]
    },
    {
     "name": "stderr",
     "output_type": "stream",
     "text": [
      "                                                                                         \r"
     ]
    },
    {
     "name": "stdout",
     "output_type": "stream",
     "text": [
      "Epoch [7/30]: Train Loss: 0.0591, Val Loss: 0.1941, Remaining Time: 413m 32s\n"
     ]
    },
    {
     "name": "stderr",
     "output_type": "stream",
     "text": [
      "                                                                                          \r"
     ]
    },
    {
     "name": "stdout",
     "output_type": "stream",
     "text": [
      "Epoch [8/30]: Train Loss: 0.0352, Val Loss: 0.0522, Remaining Time: 397m 14s\n"
     ]
    },
    {
     "name": "stderr",
     "output_type": "stream",
     "text": [
      "                                                                                         \r"
     ]
    },
    {
     "name": "stdout",
     "output_type": "stream",
     "text": [
      "Epoch [9/30]: Train Loss: 0.0522, Val Loss: 0.0425, Remaining Time: 379m 4s\n"
     ]
    },
    {
     "name": "stderr",
     "output_type": "stream",
     "text": [
      "                                                                                          \r"
     ]
    },
    {
     "name": "stdout",
     "output_type": "stream",
     "text": [
      "Epoch [10/30]: Train Loss: 0.0507, Val Loss: 0.1222, Remaining Time: 360m 57s\n"
     ]
    },
    {
     "name": "stderr",
     "output_type": "stream",
     "text": [
      "                                                                                           \r"
     ]
    },
    {
     "name": "stdout",
     "output_type": "stream",
     "text": [
      "Epoch [11/30]: Train Loss: 0.0358, Val Loss: 0.0476, Remaining Time: 342m 17s\n"
     ]
    },
    {
     "name": "stderr",
     "output_type": "stream",
     "text": [
      "                                                                                           \r"
     ]
    },
    {
     "name": "stdout",
     "output_type": "stream",
     "text": [
      "Epoch [12/30]: Train Loss: 0.0288, Val Loss: 0.0660, Remaining Time: 324m 4s\n"
     ]
    },
    {
     "name": "stderr",
     "output_type": "stream",
     "text": [
      "                                                                                          \r"
     ]
    },
    {
     "name": "stdout",
     "output_type": "stream",
     "text": [
      "Epoch [13/30]: Train Loss: 0.0333, Val Loss: 0.0454, Remaining Time: 305m 60s\n"
     ]
    },
    {
     "name": "stderr",
     "output_type": "stream",
     "text": [
      "                                                                                           \r"
     ]
    },
    {
     "name": "stdout",
     "output_type": "stream",
     "text": [
      "Epoch [14/30]: Train Loss: 0.0268, Val Loss: 0.2569, Remaining Time: 288m 1s\n"
     ]
    },
    {
     "name": "stderr",
     "output_type": "stream",
     "text": [
      "                                                                                           \r"
     ]
    },
    {
     "name": "stdout",
     "output_type": "stream",
     "text": [
      "Epoch [15/30]: Train Loss: 0.0346, Val Loss: 0.1588, Remaining Time: 270m 9s\n"
     ]
    },
    {
     "name": "stderr",
     "output_type": "stream",
     "text": [
      "                                                                                           \r"
     ]
    },
    {
     "name": "stdout",
     "output_type": "stream",
     "text": [
      "Early stopping at epoch 16.\n"
     ]
    },
    {
     "name": "stderr",
     "output_type": "stream",
     "text": [
      "C:\\Users\\Омар\\AppData\\Local\\Temp\\ipykernel_13532\\512052923.py:166: FutureWarning: You are using `torch.load` with `weights_only=False` (the current default value), which uses the default pickle module implicitly. It is possible to construct malicious pickle data which will execute arbitrary code during unpickling (See https://github.com/pytorch/pytorch/blob/main/SECURITY.md#untrusted-models for more details). In a future release, the default value for `weights_only` will be flipped to `True`. This limits the functions that could be executed during unpickling. Arbitrary objects will no longer be allowed to be loaded via this mode unless they are explicitly allowlisted by the user via `torch.serialization.add_safe_globals`. We recommend you start setting `weights_only=True` for any use case where you don't have full control of the loaded file. Please open an issue on GitHub for any issues related to this experimental feature.\n",
      "  model.load_state_dict(torch.load('best_model_weights.pth'))\n"
     ]
    },
    {
     "name": "stdout",
     "output_type": "stream",
     "text": [
      "F1 = 0.87, accuracy = 0.81 \n",
      "Running solution 3/5\n"
     ]
    },
    {
     "name": "stderr",
     "output_type": "stream",
     "text": [
      "C:\\Users\\Омар\\PycharmProjects\\FinalMLProject\\.venv\\Lib\\site-packages\\torchvision\\models\\_utils.py:208: UserWarning: The parameter 'pretrained' is deprecated since 0.13 and may be removed in the future, please use 'weights' instead.\n",
      "  warnings.warn(\n",
      "C:\\Users\\Омар\\PycharmProjects\\FinalMLProject\\.venv\\Lib\\site-packages\\torchvision\\models\\_utils.py:223: UserWarning: Arguments other than a weight enum or `None` for 'weights' are deprecated since 0.13 and may be removed in the future. The current behavior is equivalent to passing `weights=ResNet34_Weights.IMAGENET1K_V1`. You can also use `weights=ResNet34_Weights.DEFAULT` to get the most up-to-date weights.\n",
      "  warnings.warn(msg)\n",
      "C:\\Users\\Омар\\PycharmProjects\\FinalMLProject\\.venv\\Lib\\site-packages\\torch\\optim\\lr_scheduler.py:240: UserWarning: The epoch parameter in `scheduler.step()` was not necessary and is being deprecated where possible. Please use `scheduler.step()` to step the scheduler. During the deprecation, if epoch is different from None, the closed form is used instead of the new chainable form, where available. Please open an issue if you are unable to replicate your use case: https://github.com/pytorch/pytorch/issues/new/choose.\n",
      "  warnings.warn(EPOCH_DEPRECATION_WARNING, UserWarning)\n"
     ]
    },
    {
     "name": "stdout",
     "output_type": "stream",
     "text": [
      "Epoch [1/30]: Train Loss: 0.3013, Val Loss: 9.6808, Remaining Time: 527m 44s\n"
     ]
    },
    {
     "name": "stderr",
     "output_type": "stream",
     "text": [
      "                                                                                         \r"
     ]
    },
    {
     "name": "stdout",
     "output_type": "stream",
     "text": [
      "Epoch [2/30]: Train Loss: 0.0973, Val Loss: 0.1170, Remaining Time: 507m 51s\n"
     ]
    },
    {
     "name": "stderr",
     "output_type": "stream",
     "text": [
      "                                                                                         \r"
     ]
    },
    {
     "name": "stdout",
     "output_type": "stream",
     "text": [
      "Epoch [3/30]: Train Loss: 0.0629, Val Loss: 0.8054, Remaining Time: 490m 43s\n"
     ]
    },
    {
     "name": "stderr",
     "output_type": "stream",
     "text": [
      "                                                                                         \r"
     ]
    },
    {
     "name": "stdout",
     "output_type": "stream",
     "text": [
      "Epoch [4/30]: Train Loss: 0.0729, Val Loss: 0.1041, Remaining Time: 473m 13s\n"
     ]
    },
    {
     "name": "stderr",
     "output_type": "stream",
     "text": [
      "                                                                                         \r"
     ]
    },
    {
     "name": "stdout",
     "output_type": "stream",
     "text": [
      "Epoch [5/30]: Train Loss: 0.0634, Val Loss: 0.0507, Remaining Time: 455m 58s\n"
     ]
    },
    {
     "name": "stderr",
     "output_type": "stream",
     "text": [
      "                                                                                         \r"
     ]
    },
    {
     "name": "stdout",
     "output_type": "stream",
     "text": [
      "Epoch [6/30]: Train Loss: 0.0438, Val Loss: 0.0714, Remaining Time: 436m 54s\n"
     ]
    },
    {
     "name": "stderr",
     "output_type": "stream",
     "text": [
      "                                                                                         \r"
     ]
    },
    {
     "name": "stdout",
     "output_type": "stream",
     "text": [
      "Epoch [7/30]: Train Loss: 0.0370, Val Loss: 0.0894, Remaining Time: 418m 44s\n"
     ]
    },
    {
     "name": "stderr",
     "output_type": "stream",
     "text": [
      "                                                                                         \r"
     ]
    },
    {
     "name": "stdout",
     "output_type": "stream",
     "text": [
      "Epoch [8/30]: Train Loss: 0.0352, Val Loss: 0.0877, Remaining Time: 402m 41s\n"
     ]
    },
    {
     "name": "stderr",
     "output_type": "stream",
     "text": [
      "                                                                                         \r"
     ]
    },
    {
     "name": "stdout",
     "output_type": "stream",
     "text": [
      "Epoch [9/30]: Train Loss: 0.0442, Val Loss: 1.0926, Remaining Time: 387m 33s\n"
     ]
    },
    {
     "name": "stderr",
     "output_type": "stream",
     "text": [
      "                                                                                          \r"
     ]
    },
    {
     "name": "stdout",
     "output_type": "stream",
     "text": [
      "Epoch [10/30]: Train Loss: 0.0391, Val Loss: 0.2017, Remaining Time: 374m 25s\n"
     ]
    },
    {
     "name": "stderr",
     "output_type": "stream",
     "text": [
      "                                                                                           \r"
     ]
    },
    {
     "name": "stdout",
     "output_type": "stream",
     "text": [
      "Epoch [11/30]: Train Loss: 0.0237, Val Loss: 0.0380, Remaining Time: 359m 27s\n"
     ]
    },
    {
     "name": "stderr",
     "output_type": "stream",
     "text": [
      "                                                                                           \r"
     ]
    },
    {
     "name": "stdout",
     "output_type": "stream",
     "text": [
      "Epoch [12/30]: Train Loss: 0.0346, Val Loss: 0.1036, Remaining Time: 343m 6s\n"
     ]
    },
    {
     "name": "stderr",
     "output_type": "stream",
     "text": [
      "                                                                                          \r"
     ]
    },
    {
     "name": "stdout",
     "output_type": "stream",
     "text": [
      "Epoch [13/30]: Train Loss: 0.0426, Val Loss: 0.1667, Remaining Time: 324m 20s\n"
     ]
    },
    {
     "name": "stderr",
     "output_type": "stream",
     "text": [
      "                                                                                           \r"
     ]
    },
    {
     "name": "stdout",
     "output_type": "stream",
     "text": [
      "Epoch [14/30]: Train Loss: 0.0266, Val Loss: 0.0877, Remaining Time: 304m 33s\n"
     ]
    },
    {
     "name": "stderr",
     "output_type": "stream",
     "text": [
      "                                                                                           \r"
     ]
    },
    {
     "name": "stdout",
     "output_type": "stream",
     "text": [
      "Epoch [15/30]: Train Loss: 0.0165, Val Loss: 0.0846, Remaining Time: 286m 38s\n"
     ]
    },
    {
     "name": "stderr",
     "output_type": "stream",
     "text": [
      "Training epoch 16/30:   6%|▌         | 1/17 [02:02<32:34, 122.18s/mini-batch, loss=0.0131]"
     ]
    }
   ],
   "execution_count": null
  }
 ],
 "metadata": {
  "kernelspec": {
   "display_name": "Python 3",
   "language": "python",
   "name": "python3"
  },
  "language_info": {
   "codemirror_mode": {
    "name": "ipython",
    "version": 2
   },
   "file_extension": ".py",
   "mimetype": "text/x-python",
   "name": "python",
   "nbconvert_exporter": "python",
   "pygments_lexer": "ipython2",
   "version": "2.7.6"
  }
 },
 "nbformat": 4,
 "nbformat_minor": 5
}
